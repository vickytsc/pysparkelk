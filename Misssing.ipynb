{
 "cells": [
  {
   "cell_type": "code",
   "execution_count": 1,
   "id": "75b4b06e",
   "metadata": {},
   "outputs": [],
   "source": [
    "import os\n",
    "import sys\n",
    "\n",
    "os.environ['PYSPARK_PYTHON'] = sys.executable\n",
    "os.environ['PYSPARK_DRIVER_PYTHON'] = sys.executable\n",
    "\n",
    "import pyspark\n",
    "from pyspark.sql import SparkSession"
   ]
  },
  {
   "cell_type": "code",
   "execution_count": 2,
   "id": "8555046a",
   "metadata": {},
   "outputs": [],
   "source": [
    "spark=SparkSession.builder.appName(\"miss\").getOrCreate()"
   ]
  },
  {
   "cell_type": "code",
   "execution_count": 3,
   "id": "7d0a10ae",
   "metadata": {},
   "outputs": [
    {
     "name": "stdout",
     "output_type": "stream",
     "text": [
      "root\n",
      " |-- id: string (nullable = true)\n",
      " |-- Name: string (nullable = true)\n",
      " |-- sales: double (nullable = true)\n",
      "\n",
      "+----+-----+-----+\n",
      "|  id| Name|sales|\n",
      "+----+-----+-----+\n",
      "|emp1|James| null|\n",
      "|emp2| null| null|\n",
      "|emp3| null|345.0|\n",
      "|emp3|cindy|455.0|\n",
      "+----+-----+-----+\n",
      "\n"
     ]
    }
   ],
   "source": [
    "simpleData = [(\"emp1\",\"James\",None),(\"emp2\",None,None),(\"emp3\",None,345.0),(\"emp3\",\"cindy\",455.0)]\n",
    "\n",
    "schema = [\"id\",\"Name\",\"sales\"]\n",
    "df = spark.createDataFrame(data=simpleData,schema=schema)\n",
    "df.printSchema()\n",
    "df.show()"
   ]
  },
  {
   "cell_type": "code",
   "execution_count": 65,
   "id": "a7e5b95c",
   "metadata": {},
   "outputs": [
    {
     "name": "stdout",
     "output_type": "stream",
     "text": [
      "+----+-----+-----+\n",
      "|  id| Name|sales|\n",
      "+----+-----+-----+\n",
      "|emp3|cindy|455.0|\n",
      "+----+-----+-----+\n",
      "\n"
     ]
    }
   ],
   "source": [
    "df.dropna(how='any').show()"
   ]
  },
  {
   "cell_type": "code",
   "execution_count": 66,
   "id": "a8195921",
   "metadata": {},
   "outputs": [
    {
     "name": "stdout",
     "output_type": "stream",
     "text": [
      "+----+-----+-----+\n",
      "|  id| Name|sales|\n",
      "+----+-----+-----+\n",
      "|emp1|James| null|\n",
      "|emp3| null|345.0|\n",
      "|emp3|cindy|455.0|\n",
      "+----+-----+-----+\n",
      "\n"
     ]
    }
   ],
   "source": [
    "df.dropna(thresh=2).show()"
   ]
  },
  {
   "cell_type": "code",
   "execution_count": 67,
   "id": "1818644c",
   "metadata": {},
   "outputs": [
    {
     "name": "stdout",
     "output_type": "stream",
     "text": [
      "+----+-----+-----+\n",
      "|  id| Name|sales|\n",
      "+----+-----+-----+\n",
      "|emp1|James| null|\n",
      "|emp2|   NA| null|\n",
      "|emp3|   NA|345.0|\n",
      "|emp3|cindy|455.0|\n",
      "+----+-----+-----+\n",
      "\n"
     ]
    }
   ],
   "source": [
    "df.na.fill(\"NA\").show()"
   ]
  },
  {
   "cell_type": "code",
   "execution_count": 57,
   "id": "a3e3c78a",
   "metadata": {},
   "outputs": [
    {
     "name": "stdout",
     "output_type": "stream",
     "text": [
      "+----+-----+-----+\n",
      "|  id| Name|sales|\n",
      "+----+-----+-----+\n",
      "|emp1|James|  0.0|\n",
      "|emp2| null|  0.0|\n",
      "|emp3| null|345.0|\n",
      "|emp3|cindy|345.0|\n",
      "+----+-----+-----+\n",
      "\n"
     ]
    }
   ],
   "source": [
    "df.na.fill(0).show()"
   ]
  },
  {
   "cell_type": "code",
   "execution_count": 60,
   "id": "2eea4047",
   "metadata": {},
   "outputs": [
    {
     "name": "stdout",
     "output_type": "stream",
     "text": [
      "+----+-----+-----+\n",
      "|  id| Name|sales|\n",
      "+----+-----+-----+\n",
      "|emp1|James| null|\n",
      "|emp2|   NA| null|\n",
      "|emp3|   NA|345.0|\n",
      "|emp3|cindy|345.0|\n",
      "+----+-----+-----+\n",
      "\n"
     ]
    }
   ],
   "source": [
    "df.na.fill('NA',subset=['Name']).show()"
   ]
  },
  {
   "cell_type": "code",
   "execution_count": 62,
   "id": "ed52bfe1",
   "metadata": {},
   "outputs": [
    {
     "name": "stdout",
     "output_type": "stream",
     "text": [
      "+----+-----+-----+\n",
      "|  id| Name|sales|\n",
      "+----+-----+-----+\n",
      "|emp1|James|  0.0|\n",
      "|emp2|   NA|  0.0|\n",
      "|emp3|   NA|345.0|\n",
      "|emp3|cindy|345.0|\n",
      "+----+-----+-----+\n",
      "\n"
     ]
    }
   ],
   "source": [
    "df.na.fill({\"Name\":'NA',\"sales\":0}).show()"
   ]
  },
  {
   "cell_type": "code",
   "execution_count": null,
   "id": "317a4fd0",
   "metadata": {},
   "outputs": [],
   "source": []
  }
 ],
 "metadata": {
  "kernelspec": {
   "display_name": "Python 3 (ipykernel)",
   "language": "python",
   "name": "python3"
  },
  "language_info": {
   "codemirror_mode": {
    "name": "ipython",
    "version": 3
   },
   "file_extension": ".py",
   "mimetype": "text/x-python",
   "name": "python",
   "nbconvert_exporter": "python",
   "pygments_lexer": "ipython3",
   "version": "3.10.9"
  }
 },
 "nbformat": 4,
 "nbformat_minor": 5
}
