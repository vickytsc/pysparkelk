{
 "cells": [
  {
   "cell_type": "code",
   "execution_count": 1,
   "id": "0c8213f2",
   "metadata": {},
   "outputs": [
    {
     "name": "stdout",
     "output_type": "stream",
     "text": [
      "the:5\n"
     ]
    }
   ],
   "source": [
    "import os\n",
    "import sys\n",
    "\n",
    "os.environ['PYSPARK_PYTHON'] = sys.executable\n",
    "os.environ['PYSPARK_DRIVER_PYTHON'] = sys.executable\n",
    "\n",
    "import pyspark\n",
    "from pyspark.sql import SparkSession\n",
    "\n",
    "spark=SparkSession.builder.appName(\"sample\").getOrCreate()\n",
    "sc=spark.sparkContext\n",
    "txt_file=sc.textFile(\"C:\\Sample.txt\")\n",
    "count = txt_file.flatMap(lambda line:line.split(\" \")).map(lambda word:(word,1)).reduceByKey(lambda x,y:x+y)\n",
    "output=count.collect()\n",
    "for (word,count) in output:\n",
    "    if(word == \"the\"):\n",
    "        print(\"%s:%r\" %(word,count))"
   ]
  },
  {
   "cell_type": "code",
   "execution_count": 31,
   "id": "694e52f7",
   "metadata": {},
   "outputs": [
    {
     "name": "stdout",
     "output_type": "stream",
     "text": [
      "1\n",
      "4\n",
      "9\n",
      "16\n"
     ]
    }
   ],
   "source": [
    "data =sc.parallelize([1,2,3,4])\n",
    "square = data.map(lambda x:x*x).collect()\n",
    "for i in square:\n",
    "    print(\"%s\" %i)"
   ]
  },
  {
   "cell_type": "code",
   "execution_count": 33,
   "id": "605556e5",
   "metadata": {},
   "outputs": [
    {
     "name": "stdout",
     "output_type": "stream",
     "text": [
      "+----+-----+\n",
      "|name|score|\n",
      "+----+-----+\n",
      "| joe|  200|\n",
      "| sam|  100|\n",
      "| raj|  150|\n",
      "+----+-----+\n",
      "\n"
     ]
    }
   ],
   "source": [
    "data1=[(\"joe\",200),(\"sam\",100),(\"raj\",150)]\n",
    "columns=[\"name\",\"score\"]\n",
    "df=spark.createDataFrame(data1).toDF(*columns)\n",
    "df.show()"
   ]
  },
  {
   "cell_type": "code",
   "execution_count": 34,
   "id": "a9910e3f",
   "metadata": {},
   "outputs": [
    {
     "name": "stdout",
     "output_type": "stream",
     "text": [
      "+----+-----+\n",
      "|name|score|\n",
      "+----+-----+\n",
      "| joe|  200|\n",
      "| sam|  100|\n",
      "| raj|  150|\n",
      "+----+-----+\n",
      "\n"
     ]
    }
   ],
   "source": [
    "df.select(\"name\",\"score\").show()"
   ]
  },
  {
   "cell_type": "code",
   "execution_count": 35,
   "id": "5b1051d8",
   "metadata": {},
   "outputs": [
    {
     "name": "stdout",
     "output_type": "stream",
     "text": [
      "+--------------------+---+---------+------------+----------+------+------------+-----+------+\n",
      "|                 Car|MPG|Cylinders|Displacement|Horsepower|Weight|Acceleration|Model|Origin|\n",
      "+--------------------+---+---------+------------+----------+------+------------+-----+------+\n",
      "|Chevrolet Chevell...| 18|        8|         307|       130|  3504|        12.0|   70|    US|\n",
      "|   Buick Skylark 320| 15|        8|         350|       165|  3693|        11.5|   70|    US|\n",
      "|  Plymouth Satellite| 18|        8|         318|       150|  3436|        11.0|   70|    US|\n",
      "|       AMC Rebel SST| 16|        8|         304|       150|  3433|        12.0|   70|    US|\n",
      "|         Ford Torino| 17|        8|         302|       140|  3449|        10.5|   70|    US|\n",
      "|    Ford Galaxie 500| 15|        8|         429|       198|  4341|        10.0|   70|    US|\n",
      "+--------------------+---+---------+------------+----------+------+------------+-----+------+\n",
      "\n"
     ]
    }
   ],
   "source": [
    "df=spark.read.csv(\"C:\\CarModel.csv\",inferSchema=True,header=True)\n",
    "df.show()"
   ]
  },
  {
   "cell_type": "code",
   "execution_count": 38,
   "id": "bacd4bc9",
   "metadata": {},
   "outputs": [
    {
     "name": "stdout",
     "output_type": "stream",
     "text": [
      "+--------------------+---+\n",
      "|                 Car|MPG|\n",
      "+--------------------+---+\n",
      "|Chevrolet Chevell...| 18|\n",
      "|  Plymouth Satellite| 18|\n",
      "|       AMC Rebel SST| 16|\n",
      "|         Ford Torino| 17|\n",
      "+--------------------+---+\n",
      "\n"
     ]
    }
   ],
   "source": [
    "df.select(\"Car\",\"MPG\").filter(df[\"MPG\"]>15).show()"
   ]
  },
  {
   "cell_type": "code",
   "execution_count": 44,
   "id": "1ab97f6d",
   "metadata": {},
   "outputs": [
    {
     "name": "stdout",
     "output_type": "stream",
     "text": [
      "+---+--------------+\n",
      "|MPG|sum(Cylinders)|\n",
      "+---+--------------+\n",
      "| 16|             8|\n",
      "| 15|            16|\n",
      "| 17|             8|\n",
      "| 18|            16|\n",
      "+---+--------------+\n",
      "\n"
     ]
    }
   ],
   "source": [
    "df.groupBy(\"MPG\").agg({\"Cylinders\":\"sum\"}).show()"
   ]
  },
  {
   "cell_type": "code",
   "execution_count": null,
   "id": "55a27f06",
   "metadata": {},
   "outputs": [],
   "source": [
    "\n"
   ]
  },
  {
   "cell_type": "code",
   "execution_count": null,
   "id": "9f93ff6b",
   "metadata": {},
   "outputs": [],
   "source": []
  }
 ],
 "metadata": {
  "kernelspec": {
   "display_name": "Python 3 (ipykernel)",
   "language": "python",
   "name": "python3"
  },
  "language_info": {
   "codemirror_mode": {
    "name": "ipython",
    "version": 3
   },
   "file_extension": ".py",
   "mimetype": "text/x-python",
   "name": "python",
   "nbconvert_exporter": "python",
   "pygments_lexer": "ipython3",
   "version": "3.10.9"
  }
 },
 "nbformat": 4,
 "nbformat_minor": 5
}
